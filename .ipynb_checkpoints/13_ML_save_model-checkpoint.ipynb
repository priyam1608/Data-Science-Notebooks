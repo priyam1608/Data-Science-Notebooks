{
 "cells": [
  {
   "cell_type": "markdown",
   "id": "26ddf0f1-3799-4c1a-a13c-876e152407e6",
   "metadata": {},
   "source": [
    "### The machine learning models can be saved in a file and can be used later using 2 modules:\n",
    "\n",
    "* **Pickle**\n",
    "* **joblib**"
   ]
  },
  {
   "cell_type": "code",
   "execution_count": 23,
   "id": "8f76b98c-d6c9-4d26-9bb7-5bd6edc4040c",
   "metadata": {},
   "outputs": [
    {
     "data": {
      "text/plain": [
       "array([628715.75342466])"
      ]
     },
     "execution_count": 23,
     "metadata": {},
     "output_type": "execute_result"
    }
   ],
   "source": [
    "from sklearn import linear_model\n",
    "import pandas as pd\n",
    "import pickle\n",
    "\n",
    "df = pd.read_csv(\"ML Practice Files/Linear Regression/homeprices.csv\")\n",
    "df\n",
    "\n",
    "model = linear_model.LinearRegression()\n",
    "model.fit(df[['area']],df.price)\n",
    "model.predict(pd.DataFrame([[3300],[4000]], columns=['area']))\n",
    "\n",
    "with open(\"ML Practice Files/Save Model/pickle_doc\",\"wb\") as file:      # Saving\n",
    "    pickle.dump(model,file)\n",
    "\n",
    "with open(\"ML Practice Files/Save Model/pickle_doc\",\"rb\") as file:      # Reading\n",
    "    savedFile = pickle.load(file)\n",
    "\n",
    "savedFile.predict(pd.DataFrame([[3300]],columns=['area']))\n"
   ]
  },
  {
   "cell_type": "code",
   "execution_count": 24,
   "id": "2fe3a154-d79d-422e-9b36-eacb289a93ff",
   "metadata": {},
   "outputs": [
    {
     "data": {
      "text/plain": [
       "array([628715.75342466])"
      ]
     },
     "execution_count": 24,
     "metadata": {},
     "output_type": "execute_result"
    }
   ],
   "source": [
    "import pandas as pd\n",
    "from sklearn import linear_model\n",
    "import joblib\n",
    "\n",
    "df = pd.read_csv(\"ML Practice Files/Linear Regression/homeprices.csv\")\n",
    "df\n",
    "\n",
    "model = linear_model.LinearRegression()\n",
    "model.fit(df[['area']],df.price)\n",
    "model.predict(pd.DataFrame([[3300],[4000]],columns=['area']))\n",
    "\n",
    "joblib.dump(model,\"ML Practice Files/Save Model/joblib_doc\")              # Saving\n",
    "\n",
    "savedModel = joblib.load(\"ML Practice Files/Save Model/joblib_doc\")       # Reading\n",
    "savedModel.predict(pd.DataFrame([[3300]],columns=['area']))\n"
   ]
  }
 ],
 "metadata": {
  "kernelspec": {
   "display_name": "Python 3 (ipykernel)",
   "language": "python",
   "name": "python3"
  },
  "language_info": {
   "codemirror_mode": {
    "name": "ipython",
    "version": 3
   },
   "file_extension": ".py",
   "mimetype": "text/x-python",
   "name": "python",
   "nbconvert_exporter": "python",
   "pygments_lexer": "ipython3",
   "version": "3.12.6"
  }
 },
 "nbformat": 4,
 "nbformat_minor": 5
}
