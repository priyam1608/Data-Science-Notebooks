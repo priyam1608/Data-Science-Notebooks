{
 "cells": [
  {
   "attachments": {
    "b4888773-5f4c-4e83-8b70-f1486df44ccd.png": {
     "image/png": "[encoded data removed]"
    }
   },
   "cell_type": "markdown",
   "id": "8a9c838c-360e-42c6-81f4-c401584ac13a",
   "metadata": {},
   "source": [
    "# K Fold Cross Validation\n",
    "\n",
    "* **K-fold cross-validation approach divides the input dataset into K groups of samples of equal sizes.These samples are called folds.**\n",
    "* **This approach is a very popular CV approach because it is easy to understand, and the output is less biased than other methods.**\n",
    "* **The steps for k-fold cross-validation are:**\n",
    "\n",
    "    1) **Split the input dataset into K groups,**\n",
    "    **For each group:**\n",
    "        1) **Take one group as the reserve or test data set.**\n",
    "        2) **Use remaining groups as the training dataset**\n",
    "        3) **Fit the model on the training set and evaluate the performance of the model using the test set.**\n",
    "\n",
    "![image.png](attachment:b4888773-5f4c-4e83-8b70-f1486df44ccd.png)"
   ]
  },
  {
   "cell_type": "code",
   "execution_count": 4,
   "id": "6848cc96-5960-46a8-97b6-b02eb58a61d4",
   "metadata": {},
   "outputs": [
    {
     "data": {
      "text/plain": [
       "['DESCR', 'data', 'feature_names', 'frame', 'images', 'target', 'target_names']"
      ]
     },
     "execution_count": 4,
     "metadata": {},
     "output_type": "execute_result"
    }
   ],
   "source": [
    "import pandas as pd \n",
    "from sklearn.datasets import load_digits\n",
    "from sklearn.linear_model import LogisticRegression\n",
    "from sklearn.svm import SVC\n",
    "from sklearn.ensemble import RandomForestClassifier\n",
    "\n",
    "digits = load_digits()\n",
    "dir(digits)"
   ]
  },
  {
   "cell_type": "code",
   "execution_count": 5,
   "id": "8f9a2a04-ba1d-46dc-b9ce-c4efb7a98524",
   "metadata": {},
   "outputs": [],
   "source": [
    "from sklearn.model_selection import train_test_split\n",
    "x_train, x_test, y_train, y_test = train_test_split(digits.data,digits.target,test_size=0.3)"
   ]
  },
  {
   "cell_type": "markdown",
   "id": "24c27f58-f8bf-4586-982b-47ea03712fc3",
   "metadata": {},
   "source": [
    "### Now We Evaluate Score based on different Classifiers"
   ]
  },
  {
   "cell_type": "code",
   "execution_count": 16,
   "id": "fbc163bd-edcf-43d5-97cf-56c9c4f445ec",
   "metadata": {},
   "outputs": [
    {
     "name": "stdout",
     "output_type": "stream",
     "text": [
      "Score of Logistic Regression Model = 0.9722222222222222\n",
      "Score of SVM Model = 0.9962962962962963\n",
      "Score of Random Forest Model = 0.9833333333333333\n"
     ]
    }
   ],
   "source": [
    "# For Logistic Regression\n",
    "le_model = LogisticRegression(max_iter=165)\n",
    "le_model.fit(x_train,y_train)\n",
    "print(f\"Score of Logistic Regression Model = {le_model.score(x_test,y_test)}\")\n",
    "\n",
    "# For SVM\n",
    "svm_model = SVC()\n",
    "svm_model.fit(x_train,y_train)\n",
    "print(f\"Score of SVM Model = {svm_model.score(x_test,y_test)}\")\n",
    "\n",
    "# For Random Forest\n",
    "forest_model = RandomForestClassifier()\n",
    "forest_model.fit(x_train,y_train)\n",
    "print(f\"Score of Random Forest Model = {forest_model.score(x_test,y_test)}\")"
   ]
  },
  {
   "cell_type": "markdown",
   "id": "216a8a4e-0504-46db-858d-2ddd3fc2b12c",
   "metadata": {},
   "source": [
    "### When we use KFold Cross Validation, A Basic Example is,"
   ]
  },
  {
   "cell_type": "code",
   "execution_count": 19,
   "id": "6a25af27-5299-4a02-8ae1-1453edca5223",
   "metadata": {},
   "outputs": [
    {
     "name": "stdout",
     "output_type": "stream",
     "text": [
      "[3 4 5 6 7 8] [0 1 2]\n",
      "[0 1 2 6 7 8] [3 4 5]\n",
      "[0 1 2 3 4 5] [6 7 8]\n"
     ]
    }
   ],
   "source": [
    "from sklearn.model_selection import KFold\n",
    "\n",
    "fold = KFold(n_splits=3)\n",
    "for train_index, test_index in fold.split([1,2,3,4,5,6,7,8,9]):\n",
    "    print(train_index,test_index)\n",
    "\n",
    "# Here you can see that , KFold model generated 3 random folds based on sample data"
   ]
  },
  {
   "cell_type": "markdown",
   "id": "734e7cf5-5749-47c6-9d1a-2183be0ff14a",
   "metadata": {},
   "source": [
    "### using KFold in digits example, evaluating scores of any 3 model of each split "
   ]
  },
  {
   "cell_type": "code",
   "execution_count": 23,
   "id": "158555d8-5a33-4e9a-b559-33eea06418c6",
   "metadata": {},
   "outputs": [
    {
     "name": "stdout",
     "output_type": "stream",
     "text": [
      "Scores of Logistic Regression Model =  [0.9198664440734557, 0.9415692821368948, 0.9165275459098498]\n",
      "Score of SVM Model =  [0.9649415692821369, 0.9799666110183639, 0.9649415692821369]\n",
      "Score of Random Forest Model =  [0.9315525876460768, 0.9582637729549248, 0.9265442404006677]\n"
     ]
    }
   ],
   "source": [
    "from sklearn.model_selection import StratifiedKFold        # StratifiedKFold is more optimal version of KFold module\n",
    "\n",
    "def getScore(model, x_train, x_test, y_train, y_test):\n",
    "    model.fit(x_train,y_train)\n",
    "    return model.score(x_test,y_test)\n",
    "\n",
    "sfold = StratifiedKFold(n_splits=3)\n",
    "\n",
    "le_scores = []\n",
    "svm_scores = []\n",
    "forest_scores = []\n",
    "\n",
    "for train_index,test_index in sfold.split(digits.data,digits.target):\n",
    "    x_train, x_test, y_train, y_test = digits.data[train_index], digits.data[test_index], digits.target[train_index], digits.target[test_index]\n",
    "\n",
    "    le_scores.append( getScore(LogisticRegression(max_iter=165) , x_train, x_test, y_train, y_test) )\n",
    "    svm_scores.append( getScore(SVC() , x_train, x_test, y_train, y_test))\n",
    "    forest_scores.append( getScore(RandomForestClassifier() , x_train, x_test, y_train, y_test) )\n",
    "\n",
    "print(\"Scores of Logistic Regression Model = \",le_scores)\n",
    "print(\"Score of SVM Model = \",svm_scores)\n",
    "print(\"Score of Random Forest Model = \",forest_scores)"
   ]
  },
  {
   "cell_type": "markdown",
   "id": "2b10fdf9-45d4-41d6-82c0-e80d92304ec6",
   "metadata": {},
   "source": [
    "### But when we use cross_val_score() function, we don't want to do the above complex computations"
   ]
  },
  {
   "cell_type": "code",
   "execution_count": 26,
   "id": "7dc19c59-2f29-4df1-8e36-05bca12f16d8",
   "metadata": {},
   "outputs": [
    {
     "name": "stdout",
     "output_type": "stream",
     "text": [
      "Scores of Logistic Regression Model =  [0.91986644 0.94156928 0.91652755]\n",
      "Score of SVM Model =  [0.96494157 0.97996661 0.96494157]\n",
      "Score of Random Forest Model =  [0.94156928 0.95325543 0.93155259]\n"
     ]
    }
   ],
   "source": [
    "from sklearn.model_selection import cross_val_score\n",
    "\n",
    "le_score = cross_val_score(LogisticRegression(max_iter=165), digits.data, digits.target, cv=3)\n",
    "svm_score = cross_val_score(SVC(), digits.data, digits.target, cv=3)\n",
    "forest_score = cross_val_score(RandomForestClassifier(), digits.data, digits.target, cv=3)\n",
    "\n",
    "print(\"Scores of Logistic Regression Model = \",le_score)\n",
    "print(\"Score of SVM Model = \",svm_score)\n",
    "print(\"Score of Random Forest Model = \",forest_score)"
   ]
  },
  {
   "cell_type": "markdown",
   "id": "2dacb86e-9150-4f78-9972-46ec17bfcb7a",
   "metadata": {},
   "source": [
    "<h4>This helps in finding which model is best , by finding the average score of its scores </h4>"
   ]
  }
 ],
 "metadata": {
  "kernelspec": {
   "display_name": "Python 3 (ipykernel)",
   "language": "python",
   "name": "python3"
  },
  "language_info": {
   "codemirror_mode": {
    "name": "ipython",
    "version": 3
   },
   "file_extension": ".py",
   "mimetype": "text/x-python",
   "name": "python",
   "nbconvert_exporter": "python",
   "pygments_lexer": "ipython3",
   "version": "3.12.6"
  }
 },
 "nbformat": 4,
 "nbformat_minor": 5
}
